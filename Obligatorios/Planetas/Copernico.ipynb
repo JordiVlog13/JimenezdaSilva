{
 "cells": [
  {
   "cell_type": "markdown",
   "id": "6328e77f",
   "metadata": {},
   "source": [
    "# Sistema Solar - Algoritmo de Verlet"
   ]
  },
  {
   "cell_type": "code",
   "execution_count": 31,
   "id": "30525732",
   "metadata": {},
   "outputs": [],
   "source": [
    "#Librerias necesarias\n",
    "\n",
    "import os\n",
    "import numpy as np\n",
    "import matplotlib.pyplot as plt\n",
    "from numba import jit, prange, set_num_threads, get_num_threads, config\n",
    "import time"
   ]
  },
  {
   "cell_type": "code",
   "execution_count": 32,
   "id": "44ddc919",
   "metadata": {},
   "outputs": [],
   "source": [
    "#Fijamos el numero de hilos\n",
    "config.THREADING_LAYER = 'omp'\n",
    "set_num_threads(12)"
   ]
  },
  {
   "cell_type": "code",
   "execution_count": 33,
   "id": "cec46b89",
   "metadata": {},
   "outputs": [],
   "source": [
    "#Definimos constantes\n",
    "MS = 1.989*10**30     #Masa del Sol\n",
    "UA = 1.52098233*10**11       #Unidad Astronómica\n",
    "G = 6.67*10**(-11)      #Constante de gravitación\n",
    "h = 0.0001              #Paso de tiempo\n",
    "NIter = 100000          #Número de iteraciones\n",
    "h_saved = 40          #Paso de guardado\n",
    "NP = 14                  #Número de planetas"
   ]
  },
  {
   "cell_type": "code",
   "execution_count": 34,
   "id": "ee6e03ab",
   "metadata": {},
   "outputs": [],
   "source": [
    "#Creamos las matrices donde se almacenaran las masas, excentricidades, posiciones y velocidades iniciales de los planetas\n",
    "m_0 = np.zeros(NP)\n",
    "ex = np.zeros(NP)\n",
    "pos_0 = np.zeros((NP, 2))\n",
    "vel_0 = np.zeros((NP, 2))"
   ]
  },
  {
   "cell_type": "code",
   "execution_count": 35,
   "id": "dc7b5f83",
   "metadata": {},
   "outputs": [],
   "source": [
    "#Cargamos los datos de los planetas desde un archivo\n",
    "datos = np.loadtxt(\"iniciales1.txt\", skiprows=1)\n",
    "datos = datos[:NP]  # Aseguramos que solo tomamos los primeros NP planetas\n",
    "\n",
    "m_0 = datos[:, 0]\n",
    "vel_0[:, 0] = 0\n",
    "vel_0[:, 1] = datos[:, 1]\n",
    "pos_0[:, 0] = datos[:, 2]\n",
    "pos_0[:, 1] = 0  # Inicializamos la coordenada y en 0\n"
   ]
  },
  {
   "cell_type": "code",
   "execution_count": 36,
   "id": "94090c10",
   "metadata": {},
   "outputs": [],
   "source": [
    "#Definimos las funciones para reescalar las masas y posiciones\n",
    "def reescalar_masas(masas):\n",
    "    return masas / MS\n",
    "\n",
    "def reescalar_posiciones(posiciones):\n",
    "    return posiciones / UA\n",
    "\n",
    "def reescalar_velocidades(velocidades):\n",
    "    return velocidades * np.sqrt(UA /(G * MS))\n"
   ]
  },
  {
   "cell_type": "code",
   "execution_count": 37,
   "id": "de407f7f",
   "metadata": {},
   "outputs": [],
   "source": [
    "#Reescalamos las masas y posiciones\n",
    "masas = reescalar_masas(m_0)\n",
    "pos = reescalar_posiciones(pos_0)\n",
    "vel = reescalar_velocidades(vel_0)"
   ]
  },
  {
   "cell_type": "markdown",
   "id": "4612d303",
   "metadata": {},
   "source": [
    "## Algoritmo de Verlet"
   ]
  },
  {
   "cell_type": "code",
   "execution_count": 38,
   "id": "750172a5",
   "metadata": {},
   "outputs": [],
   "source": [
    "@jit(nopython=True, fastmath=True)\n",
    "def compute_acc(pos, masas, NP):\n",
    "    a = np.zeros((NP,2))\n",
    "    for i in prange(NP):\n",
    "        xi, yi = pos[i,0], pos[i,1]\n",
    "        ax, ay = 0.0, 0.0\n",
    "        for j in range(NP):\n",
    "            if i == j: continue\n",
    "            dx = pos[j,0] - xi\n",
    "            dy = pos[j,1] - yi\n",
    "            inv_r3 = 1.0/( (dx*dx + dy*dy)**1.5 )\n",
    "            ax += masas[j] * dx * inv_r3\n",
    "            ay += masas[j] * dy * inv_r3\n",
    "        a[i,0] = ax\n",
    "        a[i,1] = ay\n",
    "    return a\n",
    "\n",
    "@jit(nopython=True,fastmath=True)\n",
    "def verlet_velocity(pos, vel, masas, h, NP, Niter, h_saved):\n",
    "    n_saves = Niter // h_saved\n",
    "    posiciones = np.zeros((n_saves, NP, 2))\n",
    "    velocidades = np.zeros((n_saves, NP, 2))\n",
    "\n",
    "    # aceleración inicial\n",
    "    a = compute_acc(pos, masas, NP)\n",
    "    save_idx = 0\n",
    "\n",
    "    for t in prange(Niter):\n",
    "        # 1) actualizar posiciones\n",
    "        for i in range(NP):\n",
    "            pos[i,0] += vel[i,0]*h + 0.5*a[i,0]*h*h\n",
    "            pos[i,1] += vel[i,1]*h + 0.5*a[i,1]*h*h\n",
    "\n",
    "        # 2) calcular nueva aceleración\n",
    "        a_new = compute_acc(pos, masas, NP)\n",
    "\n",
    "        # 3) actualizar velocidades\n",
    "        for i in prange(NP):\n",
    "            vel[i,0] += 0.5*(a[i,0] + a_new[i,0])*h\n",
    "            vel[i,1] += 0.5*(a[i,1] + a_new[i,1])*h\n",
    "\n",
    "        # 4) preparamos para el siguiente paso\n",
    "        a = a_new\n",
    "\n",
    "        # 5) guardado\n",
    "        if (t+1) % h_saved == 0:\n",
    "            posiciones[save_idx] = pos\n",
    "            velocidades[save_idx] = vel\n",
    "            save_idx += 1\n",
    "\n",
    "    return posiciones, velocidades\n",
    "    "
   ]
  },
  {
   "cell_type": "code",
   "execution_count": 39,
   "id": "539bd4ee",
   "metadata": {},
   "outputs": [
    {
     "name": "stdout",
     "output_type": "stream",
     "text": [
      "Tiempo de ejecución: 4.34 segundos\n"
     ]
    }
   ],
   "source": [
    "# Ejecutamos el algoritmo de Verlet\n",
    "\n",
    "t0 = time.perf_counter()\n",
    "posiciones, velocidades= verlet_velocity(pos, vel, masas, h, NP, NIter, h_saved)\n",
    "t = time.perf_counter() - t0\n",
    "print(f\"Tiempo de ejecución: {t:.2f} segundos\")"
   ]
  },
  {
   "cell_type": "code",
   "execution_count": 40,
   "id": "a2637ff3",
   "metadata": {},
   "outputs": [],
   "source": [
    "#Guardamos los resultados en un archivo\n",
    "\n",
    "with open(\"posicionescirc.txt\", \"w\") as f:\n",
    "    pass\n",
    "\n",
    "for t in range(int(NIter/h_saved) - 1):\n",
    "    with open(\"posicionescirc.txt\", \"a\") as f:\n",
    "        for i in range(NP):\n",
    "            f.write(f\"{posiciones[t,i,0]},{posiciones[t,i,1]}\\n\")\n",
    "        f.write(\"\\n\")"
   ]
  },
  {
   "cell_type": "code",
   "execution_count": 41,
   "id": "bbb3360e",
   "metadata": {},
   "outputs": [],
   "source": [
    "#Guardamos los resultados en un archivo\n",
    "\n",
    "with open(\"posicionesgeo.txt\", \"w\") as f:\n",
    "    pass\n",
    "\n",
    "for t in range(int(NIter/h_saved) - 1):\n",
    "    with open(\"posicionesgeo.txt\", \"a\") as f:\n",
    "        for i in range(NP):\n",
    "            f.write(str(np.subtract(posiciones[t,i,0],posiciones[t,3,0])) + \", \" + str(np.subtract(posiciones[t,i,1],posiciones[t,3,1])) + \"\\n\")\n",
    "        f.write(\"\\n\")"
   ]
  },
  {
   "cell_type": "markdown",
   "id": "fc9546d1",
   "metadata": {},
   "source": [
    "## Calculo de la energía"
   ]
  },
  {
   "cell_type": "code",
   "execution_count": 42,
   "id": "5cb459e0",
   "metadata": {},
   "outputs": [],
   "source": [
    "e_cinet = np.zeros((NP, int(NIter/h_saved-1)))\n",
    "e_pot = np.zeros((NP, int(NIter/h_saved-1)))\n",
    "e_total = np.zeros((int(NIter/h_saved-1)))"
   ]
  },
  {
   "cell_type": "code",
   "execution_count": 43,
   "id": "4ec254d6",
   "metadata": {},
   "outputs": [],
   "source": [
    "#Calculamos la energía total del sistema\n",
    "@jit(nopython=True, fastmath=True)\n",
    "def calcular_energia_total(pos, vel, masas, NP):\n",
    "    n_steps = pos.shape[0]\n",
    "    NP      = pos.shape[1]\n",
    "    \n",
    "    e_cinet = np.zeros((NP, n_steps))\n",
    "    e_pot   = np.zeros((NP, n_steps))\n",
    "    e_total = np.zeros(n_steps)\n",
    "    \n",
    "    for t in range(n_steps):\n",
    "        # 1) Energía cinética y potencial por planeta\n",
    "        for i in range(NP):\n",
    "            # --- cinética ---\n",
    "            vx = vel[t, i, 0]\n",
    "            vy = vel[t, i, 1]\n",
    "            e_cinet[i, t] = 0.5 * masas[i] * (vx*vx + vy*vy)\n",
    "            \n",
    "            # --- potencial (escalar) ---\n",
    "            aux = 0.0\n",
    "            xi, yi = pos[t, i, 0], pos[t, i, 1]\n",
    "            for j in range(NP):\n",
    "                if i != j:\n",
    "                    xj, yj = pos[t, j, 0], pos[t, j, 1]\n",
    "                    dx = xi - xj\n",
    "                    dy = yi - yj\n",
    "                    dist = np.sqrt(dx*dx + dy*dy)\n",
    "                    aux -= masas[i] * masas[j] / dist\n",
    "            e_pot[i, t] = aux\n",
    "        \n",
    "        # 2) Energía total del sistema en el paso t\n",
    "        suma_t = 0.0\n",
    "        for i in range(NP):\n",
    "            suma_t += e_cinet[i, t] + e_pot[i, t]\n",
    "        e_total[t] = suma_t\n",
    "    \n",
    "    return e_cinet, e_pot, e_total"
   ]
  },
  {
   "cell_type": "code",
   "execution_count": 44,
   "id": "b68a1c36",
   "metadata": {},
   "outputs": [
    {
     "name": "stdout",
     "output_type": "stream",
     "text": [
      "Tiempo de ejecución: 0.65 segundos\n"
     ]
    }
   ],
   "source": [
    "t0 = time.perf_counter()\n",
    "K,U,E = calcular_energia_total(posiciones, velocidades, masas, NP)\n",
    "t = time.perf_counter() - t0\n",
    "print(f\"Tiempo de ejecución: {t:.2f} segundos\")"
   ]
  },
  {
   "cell_type": "code",
   "execution_count": 45,
   "id": "8fe432b0",
   "metadata": {},
   "outputs": [
    {
     "name": "stdout",
     "output_type": "stream",
     "text": [
      "Energías guardadas en 'energias.txt'\n"
     ]
    }
   ],
   "source": [
    "# Tras llamar a tu función y obtener\n",
    "# K : array (NP, n_steps) de energías cinéticas por planeta\n",
    "# U : array (NP, n_steps) de energías potenciales por planeta\n",
    "# E : array (n_steps,)    de energía total del sistema\n",
    "# (en tu código vendrían de:)\n",
    "# K, U, E = calcular_energia_total(posiciones, velocidades, masas)\n",
    "\n",
    "# 1) Sumamos sobre planetas para obtener un vector por tipo de energía\n",
    "K_sum = np.sum(K, axis=0)    # (n_steps,)\n",
    "U_sum = np.sum(U, axis=0)    # (n_steps,)\n",
    "E_tot = E                    # (n_steps,)\n",
    "\n",
    "# 2) Apilamos las tres series como columnas\n",
    "datos = np.column_stack((K_sum, U_sum, E_tot))  # forma (n_steps, 3)\n",
    "\n",
    "# 3) Guardamos en un .txt con un encabezado\n",
    "np.savetxt(\n",
    "    \"energias.txt\",\n",
    "    datos,\n",
    "    header=\"Kinetic   Potential   Total\",\n",
    "    fmt=\"%.6e\",\n",
    "    comments=\"\"    # quita el '#' que np.savetxt antepone al header\n",
    ")\n",
    "print(\"Energías guardadas en 'energias.txt'\")\n"
   ]
  },
  {
   "cell_type": "code",
   "execution_count": 46,
   "id": "e58df2aa",
   "metadata": {},
   "outputs": [
    {
     "data": {
      "image/png": "[encoded data removed]",
      "text/plain": [
       "<Figure size 640x480 with 1 Axes>"
      ]
     },
     "metadata": {},
     "output_type": "display_data"
    }
   ],
   "source": [
    "# 1) Cargar el fichero generado antes con np.savetxt(...)\n",
    "#    Asegúrate de que 'energias.txt' existe en el directorio de trabajo\n",
    "datos = np.loadtxt('energias.txt', skiprows=1)\n",
    "\n",
    "# 2) Extraer cada serie\n",
    "K_sum = datos[:, 0]   # Energía cinética total\n",
    "U_sum = datos[:, 1]   # Energía potencial total\n",
    "E_tot = datos[:, 2]   # Energía total\n",
    "\n",
    "# 3) Vector de iteraciones\n",
    "t = np.arange(K_sum.shape[0])\n",
    "\n",
    "# 4) Plot\n",
    "plt.figure()\n",
    "plt.plot(t, K_sum, label='Cinética')\n",
    "plt.plot(t, U_sum, label='Potencial')\n",
    "plt.plot(t, E_tot, label='Total')\n",
    "plt.xlabel('Iteración')\n",
    "plt.ylabel('Energía')\n",
    "plt.legend()\n",
    "plt.title('Energías vs Iteraciones')\n",
    "plt.tight_layout()\n",
    "plt.show()\n"
   ]
  }
 ],
 "metadata": {
  "kernelspec": {
   "display_name": "fisicomp",
   "language": "python",
   "name": "python3"
  },
  "language_info": {
   "codemirror_mode": {
    "name": "ipython",
    "version": 3
   },
   "file_extension": ".py",
   "mimetype": "text/x-python",
   "name": "python",
   "nbconvert_exporter": "python",
   "pygments_lexer": "ipython3",
   "version": "3.13.2"
  }
 },
 "nbformat": 4,
 "nbformat_minor": 5
}
