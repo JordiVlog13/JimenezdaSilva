{
 "cells": [
  {
   "cell_type": "markdown",
   "id": "92168631",
   "metadata": {},
   "source": [
    "# Solución ecuación de Schrodinger para un potencial cuadrado"
   ]
  },
  {
   "cell_type": "markdown",
   "id": "57f2e12f",
   "metadata": {},
   "source": [
    "A continuación, se presenta el código empleado para hallar la solución del problema que se nos propone, resolver la ecuación de Schrodinger unidimensional para un potencial cuadrado. Para ello se ha seguido el algoritmo dado en teoría, el cual se ha desglosado en las distintas celdas del código."
   ]
  },
  {
   "cell_type": "markdown",
   "id": "67c7d1be",
   "metadata": {},
   "source": [
    "### Fundamento"
   ]
  },
  {
   "cell_type": "markdown",
   "id": "54baa1bb",
   "metadata": {},
   "source": [
    "Para resolver este problema, partimos de discretizar el espacio y el tiempo en la solución formal de la ecuación de Schrodinger:\n",
    "\n",
    "$\\Phi(x,t) \\;=\\; e^{-i\\,(t - t_{0})\\,H}\\,\\Phi(x,t_{0})$\n",
    "\n",
    "tomando $x_j = j\\,h, \\quad t_n = n\\,s, \\quad j = 0,1,\\dots,N,\\quad n = 0,1,2,\\dots$ donde $h$ es el espaciamiento en la discretización espacial y $s$ es el espaciamiento temporal.\n",
    "\n",
    "La función de onda viene dada en cada punto del retículo espacio–temporal por\n",
    "    \n",
    "$\\Phi(x_j, t_n) \\;\\longrightarrow\\; \\Phi(jh, ns) = \\Phi_{j,n},\n",
    "      \\quad j = 0,1,\\dots,N,\\quad n = 0,1,2,\\dots$\n",
    "\n",
    "Supondremos que las condiciones de contorno para la función de onda en $j=0$ y $j=N$ son las correspondientes a la existencia de un potencial infinito en esos puntos; es decir, la densidad de probabilidad de encontrar la partícula allí es cero. Así, $\\Phi_{0,n} = \\Phi_{N,n} = 0,$ en cualquier instante.\n",
    "\n",
    "Puede definirse de forma inmediata un primer algoritmo a partir de la expresión\n",
    "    \n",
    "$\\Phi_{j,n+1} = e^{-\\,i\\,s\\,H}\\,\\Phi_{j,n}$\n",
    "\n",
    "Para poder simplificar el término exponencial, manteniendo un operador unitario, se emplea la aproximación de Cayley que, en resumidas cuentas, proporciona la siguiente solución\n",
    "\n",
    "$\\Phi_{j,n+1} = \\bigl[\\tfrac{2}{1 + i\\,s\\,H_{D}/2} - 1\\bigr]\\,\\Phi_{j,n} = \\chi_{j,n} - \\Phi_{j,n}$\n",
    "\n",
    "Podremos encontrar $\\chi_{j,n}$  resolver un conjunto de ecuaciones del tipo\n",
    "\n",
    "$\n",
    "A_j^- \\,\\chi_{j-1,n}\n",
    "\\;+\\;\n",
    "A_j^0 \\,\\chi_{j,n}\n",
    "\\;+\\;\n",
    "A_j^+ \\,\\chi_{j+1,n}\n",
    "\\;=\\;\n",
    "b_{j,n},\n",
    "\\quad\n",
    "j = 1,\\dots,N-1\n",
    "$\n",
    "\n",
    "donde $ A_j^- = 1,\\quad A_j^0 = -2 + \\frac{2i}{\\tilde s} - \\tilde V_j,\\quad A_j^+ = 1,$ y $ b_{j,n} = \\frac{4i\\,\\Phi_{j,n}}{\\tilde s}$, con $\\tilde s = s/h^2$ y $\\tilde V_j = h^2V_j$.\n",
    "\n",
    "Para resolver la recurrencia anterior supondemos una solución del tipo\n",
    "    \n",
    "$\\chi_{j+1,n} \\;=\\; \\alpha_j \\,\\chi_{j,n} \\;+\\; \\beta_{j,n}, \\qquad j = 0,\\dots,N-1$\n",
    "\n",
    "donde, para garantizar que se cumple $\\chi_{N,n}=0$, tomaremos $\\alpha_{N-1} = \\beta_{N-1,n} = 0$.\n",
    "\n",
    "A continuación, podremos definir las recurrencias para los coeficientes $\\alpha$ y $\\beta$ así:\n",
    "\n",
    "$\\alpha_{j-1} = -A_j^- \\,\\gamma_j, \\qquad \\beta_{j-1,n} = \\gamma_j\\bigl(b_{j,n} - A_j^+\\,\\beta_{j,n}\\bigr),$\n",
    "    \n",
    "donde $\\gamma_j^{-1} = A_j^0 + A_j^+ \\,\\alpha_j$.\n",
    "\n",
    "Conocida $\\chi_{j,n}$, y con ella $\\Phi_{j,n+1}$, necesitamos definir la función de onda inicial y con el potencial que actuará. Para ello, tomamos una onda plana con amplitud gaussiana, véase,\n",
    "\n",
    "$\\Phi(x,0) = e^{\\,i k_0 x}\\,e^{-\\,(x - x_0)^2 / (2\\sigma^2)}$\n",
    "\n",
    "centrada en $x_0$ y de anchura $\\sigma$. Estos parámetros se pueden tomar en función de $N$ y $n_{ciclos}$, $x_0 = Nh/4, \\sigma = Nh/16 , k_0 = 2 \\pi n_{ciclos} / N h$. Por último, el potencial propuesto tendrá anchura $N/5$, estará centrado en $N/2$ y su altura será proporcional a la energía de la onda incidente:\n",
    "\n",
    "$\\tilde V_j = V_j\\,h^2 = \n",
    "\\begin{cases}\n",
    "0, & j \\notin \\bigl[\\,2N/5,\\;3N/5\\,\\bigr],\\\\[6pt]\n",
    "\\lambda\\,\\tilde k_0^2, & j \\in \\bigl[\\,2N/5,\\;3N/5\\,\\bigr].\n",
    "\\end{cases}\n",
    "$\n",
    "\n",
    "A partir de aquí, podemos plantear el algoritmo para calcular las soluciones de la ecuación de Schrodinger.\n"
   ]
  },
  {
   "cell_type": "markdown",
   "id": "c8d9f469",
   "metadata": {},
   "source": [
    "#### Celda 1\n",
    "\n",
    "Importamos las librerías necesarias para la ejecución del código. Entre ellas, usaremos $time$ para medir el tiempo de ejecución y $numba$ para optimizar los procesos, paralelizando cuando sea posible"
   ]
  },
  {
   "cell_type": "code",
   "execution_count": 18,
   "id": "1a6e424a",
   "metadata": {},
   "outputs": [],
   "source": [
    "import os\n",
    "import time\n",
    "import numpy as np\n",
    "import matplotlib.pyplot as plt\n",
    "from numba import njit, prange, set_num_threads"
   ]
  },
  {
   "cell_type": "markdown",
   "id": "5e853bc1",
   "metadata": {},
   "source": [
    "#### Celda 2\n",
    "\n",
    "Definimos el número de hilos a usar, en mi caso dispongo de un ordenador con un procesador AMD RYZEN 7 5800h de 8 núcleos y 16 hilos con radeon graphics 3.20 ghz."
   ]
  },
  {
   "cell_type": "code",
   "execution_count": 19,
   "id": "3f1dcaa5",
   "metadata": {},
   "outputs": [],
   "source": [
    "num_threads = input(\"Introduce el número de hilos a usar (deja vacío para usar todos los disponibles): \")\n",
    "\n",
    "if num_threads.strip() == \"\":\n",
    "    num_threads = os.cpu_count()  # Obtener el número de hilos disponibles\n",
    "else:\n",
    "    num_threads = int(num_threads) \n",
    "\n",
    "set_num_threads(num_threads)  # Establecer el número de hilos para Numba"
   ]
  },
  {
   "cell_type": "markdown",
   "id": "f86ba226",
   "metadata": {},
   "source": [
    "#### Celda 3\n",
    "\n",
    "Definimos las constantes a partir de las cuales se determinarán el resto de valores "
   ]
  },
  {
   "cell_type": "code",
   "execution_count": 20,
   "id": "3f60ea39",
   "metadata": {},
   "outputs": [],
   "source": [
    "# Constantes\n",
    "N = 200\n",
    "PI = np.pi\n",
    "n_ciclos = N/4\n",
    "lam = 0.5       \n",
    "pasos = 1000"
   ]
  },
  {
   "cell_type": "markdown",
   "id": "6dd4bbed",
   "metadata": {},
   "source": [
    "#### Celda 4\n",
    "\n",
    "Generamos los valores de $\\tilde s , \\tilde k_0 , \\tilde V_j, \\phi_{j,0}$ y $\\alpha$, a partir de los valores iniciales y la condiones de contorno."
   ]
  },
  {
   "cell_type": "code",
   "execution_count": 21,
   "id": "32d766a5",
   "metadata": {},
   "outputs": [],
   "source": [
    "@njit(cache=True, parallel=True, fastmath=True)\n",
    "def generar_parametros():\n",
    "    k = 2.0 * PI * n_ciclos / N\n",
    "    s = 1.0 / (4 * k * k)\n",
    "    x0 = N / 4\n",
    "    sigma = N / 16\n",
    "\n",
    "    V = np.zeros(N+1)\n",
    "    phi = np.zeros(N+1, dtype=np.complex128)\n",
    "    norma_loc = 0.0\n",
    "    # Inicialización paralela con reducción\n",
    "    for j in prange(N+1):\n",
    "        if 2*N/5 <= j <= 3*N/5:\n",
    "            V[j] = lam * k * k\n",
    "        phi[j] = np.exp(1j * k * j) * np.exp(-((j - x0)**2)/(2*sigma*sigma))\n",
    "        norma_loc += phi[j].real*phi[j].real + phi[j].imag*phi[j].imag\n",
    "\n",
    "    # Fronteras y normalización secuencial\n",
    "    phi[0] = 0\n",
    "    phi[N] = 0\n",
    "    norma_loc = np.sqrt(norma_loc)\n",
    "    for j in range(N+1):\n",
    "        phi[j] /= norma_loc\n",
    "\n",
    "    gamma = np.zeros(N, dtype=np.complex128)\n",
    "    alpha = np.zeros(N, dtype=np.complex128)\n",
    "    alpha[N-1] = 0\n",
    "    for j in range(N-1, 0, -1):\n",
    "        gamma[j] = 1.0/(-2 - V[j] + 2.0j/s + alpha[j])\n",
    "        alpha[j-1] = -gamma[j]\n",
    "\n",
    "    return k, s, V, phi, gamma, alpha"
   ]
  },
  {
   "cell_type": "markdown",
   "id": "55ff6018",
   "metadata": {},
   "source": [
    "#### Celda 5\n",
    "\n",
    "Calulamos $\\beta$ empleando la relación vista en los fundamentos, y con ello podemos calcular los valores de $\\chi$ y $\\phi_{j, n+1}$."
   ]
  },
  {
   "cell_type": "code",
   "execution_count": 22,
   "id": "392c4847",
   "metadata": {},
   "outputs": [],
   "source": [
    "@njit(cache=True, parallel=False, fastmath=True)\n",
    "def calcular_beta(s, gamma, beta, phi, alpha, xi):\n",
    "    # Barrido hacia atrás\n",
    "    for j in range(N-1, 0, -1):\n",
    "        beta[j-1] = gamma[j] * (4.0j * phi[j] / s - beta[j])\n",
    "    # Barrido hacia adelante\n",
    "    for j in range(N-1):\n",
    "        xi[j+1] = alpha[j]*xi[j] + beta[j]\n",
    "        phi[j+1] = xi[j+1] - phi[j+1]\n"
   ]
  },
  {
   "cell_type": "markdown",
   "id": "fd259c74",
   "metadata": {},
   "source": [
    "#### Celda 6\n",
    "\n",
    "Calculamos la norma de $\\phi$ como $\\|\\phi\\| = \\sqrt{Re(\\phi)^2 + Im(\\phi)^2}$"
   ]
  },
  {
   "cell_type": "code",
   "execution_count": 23,
   "id": "f589155b",
   "metadata": {},
   "outputs": [],
   "source": [
    "@njit(cache=True, parallel=True, fastmath=True)\n",
    "def calcular_norma(phi):\n",
    "    suma = 0.0\n",
    "    # Paralelizar reducción\n",
    "    for i in prange(phi.shape[0]):\n",
    "        re = phi[i].real\n",
    "        im = phi[i].imag\n",
    "        suma += re*re + im*im\n",
    "    return np.sqrt(suma)"
   ]
  },
  {
   "cell_type": "markdown",
   "id": "66726931",
   "metadata": {},
   "source": [
    "#### Celda 7\n",
    "\n",
    "Esta sería la celda principal, donde se llama al resto de funciones para obtener los resultados, los cuales se guardaran en el archivo \"schrodinger_data.dat\". Este archivo se creará en el directorio que se esté empleando en ese momento."
   ]
  },
  {
   "cell_type": "code",
   "execution_count": 24,
   "id": "6aeaec72",
   "metadata": {},
   "outputs": [
    {
     "name": "stdout",
     "output_type": "stream",
     "text": [
      "Directorio de trabajo actual: d:\\DOCUMENTOS\\GRANADA\\4\\COMPU\\JimenezdaSilva\\Sch\n",
      "Escribiendo datos en: d:\\DOCUMENTOS\\GRANADA\\4\\COMPU\\JimenezdaSilva\\Sch\\schrodinger_data.dat\n",
      "Archivo schrodinger_data.dat creado correctamente.\n",
      "Tiempo total de ejecución: 8.5375 segundos\n"
     ]
    }
   ],
   "source": [
    "# Medir tiempo de ejecución total\n",
    "t_start = time.perf_counter()\n",
    "\n",
    "cwd = os.getcwd()\n",
    "print(f\"Directorio de trabajo actual: {cwd}\")\n",
    "\n",
    "# Generar parámetros iniciales\n",
    "k, s, V, phi, gamma, alpha = generar_parametros()\n",
    "beta = np.zeros(N, dtype=np.complex128)\n",
    "xi = np.zeros(N+1, dtype=np.complex128)\n",
    "\n",
    "norma_instantes = np.zeros(pasos)\n",
    "\n",
    "filename = os.path.join(cwd, \"schrodinger_data.dat\") # Nombre del archivo de salida\n",
    "try:\n",
    "    with open(filename, \"w\") as datos:\n",
    "        print(f\"Escribiendo datos en: {filename}\")\n",
    "        for l in range(pasos):\n",
    "            # cálculo de norma\n",
    "            norma_instantes[l] = calcular_norma(phi)\n",
    "            # Guardar datos cada 3 pasos\n",
    "            if l % 3 == 0:\n",
    "                for j in range(N+1):\n",
    "                    prob = phi[j].real*phi[j].real + phi[j].imag*phi[j].imag\n",
    "                    datos.write(f\"{j}, {prob}, {V[j]}, {phi[j].real**2}, {phi[j].imag**2}, {norma_instantes[l]}\\n\") #Datos de la iteración l: amplitudes, potencial, norma\n",
    "                datos.write(\"\\n\")\n",
    "            # Calcular beta y actualizar phi\n",
    "            calcular_beta(s, gamma, beta, phi, alpha, xi)\n",
    "    print(\"Archivo schrodinger_data.dat creado correctamente.\")\n",
    "except Exception as e:\n",
    "    print(f\"Error al crear o escribir el archivo: {e}\")\n",
    "    \n",
    "\n",
    "\n",
    "# Medir y mostrar tiempo de ejecución\n",
    "t_end = time.perf_counter()\n",
    "elapsed = t_end - t_start\n",
    "print(f\"Tiempo total de ejecución: {elapsed:.4f} segundos\")"
   ]
  },
  {
   "cell_type": "markdown",
   "id": "d2f71d1c",
   "metadata": {},
   "source": [
    "#### Celda 8\n",
    "\n",
    "Representamos la norma para comprobar que se mantiene constante en el tiempo"
   ]
  },
  {
   "cell_type": "code",
   "execution_count": 25,
   "id": "3153076c",
   "metadata": {},
   "outputs": [
    {
     "data": {
      "image/png": "[encoded data removed]",
      "text/plain": [
       "<Figure size 640x480 with 1 Axes>"
      ]
     },
     "metadata": {},
     "output_type": "display_data"
    }
   ],
   "source": [
    "# Graficar la norma con ajustes de escala\n",
    "fig, ax = plt.subplots()\n",
    "ax.plot(np.arange(pasos), norma_instantes)\n",
    "ax.yaxis.set_major_formatter(plt.FuncFormatter(lambda x, _: f\"{x:.5f}\"))\n",
    "ymin = norma_instantes.min() * 0.999\n",
    "ymax = norma_instantes.max() * 1.001\n",
    "ax.set_ylim(ymin, ymax)\n",
    "ax.set_xlabel('Paso de tiempo')\n",
    "ax.set_ylabel('Norma')\n",
    "ax.set_title('Evolución de la norma de la función de onda')\n",
    "ax.grid(True)\n",
    "plt.show()"
   ]
  },
  {
   "cell_type": "markdown",
   "id": "52d4fd0e",
   "metadata": {},
   "source": [
    "### Resultados\n",
    "\n",
    "El objetivo principal de este ejercicio era resolver la ecuación de Schrodinger para el potencial cuadrado. Se puede comprobar que el algoritmo ha cumplido satisfactoriamente su cometido al calcular las amplitudes de probabilidad de la función de onda a cada paso, ello, mediante representación de estos resultados en el archivo de video adjunto en este carpeta \"schrodinger.mp4\". En este, además de observar la onda se puede comprobar cómo, al interacionar con el potencial, una parte se transmite y otra se refleja, siendo este el comportamiento físico que se esperaba.\n",
    "\n",
    "Por otro lado, destacar que hemos podido comprobar de nuevo el resultado al verificar que la norma es unitaria y constante en el tiempo.\n",
    "\n",
    "Por último, a nivel de rendimiento, se ha comprobado que, con este equipo, el tiempo medio de ejecución ha sido de $8.5 \\pm 0.1 s$, mientras que usando Joel el tiempo de ejecución se ha reducido drásticamente hasta los $2.19 \\pm 0.01$. Esto seguramente se deba al mejor aprovechamiento de la optimización y la parelización, teniendo en cuenta que Joel tiene 48 hilos mientras este equipo tiene 16 hilos."
   ]
  }
 ],
 "metadata": {
  "kernelspec": {
   "display_name": "fisicomp",
   "language": "python",
   "name": "python3"
  },
  "language_info": {
   "codemirror_mode": {
    "name": "ipython",
    "version": 3
   },
   "file_extension": ".py",
   "mimetype": "text/x-python",
   "name": "python",
   "nbconvert_exporter": "python",
   "pygments_lexer": "ipython3",
   "version": "3.13.2"
  }
 },
 "nbformat": 4,
 "nbformat_minor": 5
}
